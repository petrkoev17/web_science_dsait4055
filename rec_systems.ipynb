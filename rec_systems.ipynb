{
 "cells": [
  {
   "cell_type": "code",
   "execution_count": 5,
   "metadata": {
    "collapsed": true
   },
   "outputs": [],
   "source": [
    "import pandas as pd\n",
    "from surprise import Dataset, Reader, SVD, KNNBasic, accuracy"
   ]
  },
  {
   "cell_type": "markdown",
   "source": [
    "# Setup"
   ],
   "metadata": {
    "collapsed": false
   }
  },
  {
   "cell_type": "code",
   "execution_count": 6,
   "outputs": [],
   "source": [
    "DATA_DIR = \"D:\\\\Delft\\\\ml-100k\\\\\"\n",
    "ratings = pd.read_csv(f\"{DATA_DIR}u.data\", sep=\"\\t\", names=[\"user_id\", \"movie_id\", \"rating\", \"timestamp\"])"
   ],
   "metadata": {
    "collapsed": false
   }
  },
  {
   "cell_type": "markdown",
   "source": [
    "# Get average ratings of user, could be interesting\n"
   ],
   "metadata": {
    "collapsed": false
   }
  },
  {
   "cell_type": "code",
   "execution_count": 7,
   "outputs": [
    {
     "name": "stdout",
     "output_type": "stream",
     "text": [
      "     user_id    rating\n",
      "0          1  3.610294\n",
      "1          2  3.709677\n",
      "2          3  2.796296\n",
      "3          4  4.333333\n",
      "4          5  2.874286\n",
      "..       ...       ...\n",
      "938      939  4.265306\n",
      "939      940  3.457944\n",
      "940      941  4.045455\n",
      "941      942  4.265823\n",
      "942      943  3.410714\n",
      "\n",
      "[943 rows x 2 columns]\n",
      "Average movies rated by a user: 106.04453870625663 \n"
     ]
    }
   ],
   "source": [
    "user_ratings = ratings.groupby('user_id')['rating'].mean().reset_index()\n",
    "print(user_ratings)\n",
    "\n",
    "users_rated = ratings['user_id'].value_counts().mean()\n",
    "print(f\"Average movies rated by a user: {users_rated} \")"
   ],
   "metadata": {
    "collapsed": false
   }
  },
  {
   "cell_type": "markdown",
   "source": [
    "# Get 62 users with 100-120 ratings"
   ],
   "metadata": {
    "collapsed": false
   }
  },
  {
   "cell_type": "code",
   "execution_count": 8,
   "outputs": [
    {
     "name": "stdout",
     "output_type": "stream",
     "text": [
      "Total ratings: 30600\n"
     ]
    }
   ],
   "source": [
    "users_ratings_filtered = ratings['user_id'].value_counts()\n",
    "filtered_users = users_ratings_filtered[(users_ratings_filtered >= 100) & (users_ratings_filtered <= 200)].index\n",
    "\n",
    "users_ratings_filtered = ratings[ratings['user_id'].isin(filtered_users)]\n",
    "print(f\"Total ratings: {len(users_ratings_filtered)}\")"
   ],
   "metadata": {
    "collapsed": false
   }
  },
  {
   "cell_type": "markdown",
   "source": [
    "# Get results with full set (for metrics lower is better)"
   ],
   "metadata": {
    "collapsed": false
   }
  },
  {
   "cell_type": "code",
   "execution_count": 9,
   "outputs": [
    {
     "name": "stdout",
     "output_type": "stream",
     "text": [
      "1340\n",
      "RMSE: 0.9692\n",
      "MAE:  0.7672\n"
     ]
    },
    {
     "data": {
      "text/plain": "0.7671654883040301"
     },
     "execution_count": 9,
     "metadata": {},
     "output_type": "execute_result"
    }
   ],
   "source": [
    "from surprise import Dataset, Reader\n",
    "from surprise.model_selection import train_test_split\n",
    "\n",
    "\n",
    "reader = Reader(rating_scale=(1, 5))\n",
    "trainset_global, testset_global = train_test_split(Dataset.load_from_df(users_ratings_filtered[[\"user_id\", \"movie_id\", \"rating\"]], reader), test_size=0.2)\n",
    "print(trainset_global.n_items)\n",
    "algo = SVD()\n",
    "algo.fit(trainset_global)\n",
    "predictions = algo.test(testset_global)\n",
    "\n",
    "accuracy.rmse(predictions)\n",
    "accuracy.mae(predictions)"
   ],
   "metadata": {
    "collapsed": false
   }
  },
  {
   "cell_type": "markdown",
   "source": [
    "# Remove fraction of ratings + plots"
   ],
   "metadata": {
    "collapsed": false
   }
  },
  {
   "cell_type": "code",
   "execution_count": 10,
   "outputs": [
    {
     "name": "stdout",
     "output_type": "stream",
     "text": [
      "Estimating biases using als...\n",
      "Kept 100% of ratings → RMSE: 0.9385, MAE: 0.7380\n",
      "Kept baseline 100% of ratings → RMSE: 0.9385, MAE: 0.7380\n",
      "Estimating biases using als...\n",
      "Kept 90% of ratings → RMSE: 0.9427, MAE: 0.7443\n",
      "Kept baseline 90% of ratings → RMSE: 0.9427, MAE: 0.7443\n",
      "Estimating biases using als...\n",
      "Kept 80% of ratings → RMSE: 0.9499, MAE: 0.7507\n",
      "Kept baseline 80% of ratings → RMSE: 0.9499, MAE: 0.7507\n",
      "Estimating biases using als...\n",
      "Kept 70% of ratings → RMSE: 0.9539, MAE: 0.7550\n",
      "Kept baseline 70% of ratings → RMSE: 0.9539, MAE: 0.7550\n",
      "Estimating biases using als...\n",
      "Kept 50% of ratings → RMSE: 0.9624, MAE: 0.7628\n",
      "Kept baseline 50% of ratings → RMSE: 0.9624, MAE: 0.7628\n",
      "Estimating biases using als...\n",
      "Kept 30% of ratings → RMSE: 0.9770, MAE: 0.7755\n",
      "Kept baseline 30% of ratings → RMSE: 0.9770, MAE: 0.7755\n",
      "Estimating biases using als...\n",
      "Kept 9% of ratings → RMSE: 1.0191, MAE: 0.8158\n",
      "Kept baseline 9% of ratings → RMSE: 1.0191, MAE: 0.8158\n"
     ]
    }
   ],
   "source": [
    "from surprise import BaselineOnly\n",
    "original_ratings = ratings.copy()\n",
    "\n",
    "reader = Reader(rating_scale=(1, 5))\n",
    "fractions = [0.0, 0.1, 0.2, 0.3, 0.5, 0.7, 0.9]\n",
    "\n",
    "test_users = set([uid for (uid, _, _) in testset_global])\n",
    "test_items = set([iid for (_, iid, _) in testset_global])\n",
    "\n",
    "data = Dataset.load_from_df(original_ratings[['user_id', 'movie_id', 'rating']], reader)\n",
    "test_pairs = {(uid, iid) for (uid, iid, _) in testset_global}\n",
    "\n",
    "\n",
    "results = []\n",
    "results_b = []\n",
    "for frac in fractions:\n",
    "    if frac > 0:\n",
    "        reduced_data_frame = original_ratings.sample(frac=(1-frac), random_state=42)\n",
    "    else:\n",
    "        reduced_data_frame = original_ratings.copy()\n",
    "\n",
    "\n",
    "    train_df = reduced_data_frame[\n",
    "        ~reduced_data_frame.apply(lambda row: (row['user_id'], row['movie_id']) in test_pairs, axis=1)\n",
    "    ]\n",
    "    reduced_data = Dataset.load_from_df(train_df[['user_id', 'movie_id', 'rating']], reader)\n",
    "    trainset = reduced_data.build_full_trainset()\n",
    "\n",
    "    algo = SVD()\n",
    "    algo_b = BaselineOnly()\n",
    "\n",
    "\n",
    "    algo.fit(trainset)\n",
    "    algo_b.fit(trainset)\n",
    "\n",
    "    predictions = algo.test(testset_global)\n",
    "    predictions_b = algo.test(testset_global)\n",
    "\n",
    "    rmse = accuracy.rmse(predictions, verbose=False)\n",
    "    rmse_b = accuracy.rmse(predictions_b, verbose=False)\n",
    "\n",
    "    mae = accuracy.mae(predictions, verbose=False)\n",
    "    mae_b = accuracy.mae(predictions_b, verbose=False)\n",
    "\n",
    "    results.append((1 - frac, rmse, mae))\n",
    "    results_b.append((1 - frac, rmse_b, mae_b))\n",
    "\n",
    "    print(f\"Kept {int((1-frac)*100)}% of ratings → RMSE: {rmse:.4f}, MAE: {mae:.4f}\")\n",
    "    print(f\"Kept baseline {int((1-frac)*100)}% of ratings → RMSE: {rmse_b:.4f}, MAE: {mae_b:.4f}\")\n"
   ],
   "metadata": {
    "collapsed": false
   }
  },
  {
   "cell_type": "markdown",
   "source": [
    "# Plot results"
   ],
   "metadata": {
    "collapsed": false
   }
  },
  {
   "cell_type": "code",
   "execution_count": 11,
   "outputs": [
    {
     "data": {
      "text/plain": "<Figure size 800x500 with 1 Axes>",
      "image/png": "[encoded data removed]"
     },
     "execution_count": 11,
     "metadata": {},
     "output_type": "execute_result"
    }
   ],
   "source": [
    "%matplotlib inline\n",
    "import matplotlib.pyplot as plt\n",
    "\n",
    "fractions_kept, rmses, maes = zip(*results)\n",
    "fractions_removed = [1 - f for f in fractions_kept]  # fraction removed\n",
    "\n",
    "fig = plt.figure(figsize=(8, 5))\n",
    "plt.plot(fractions_removed, rmses, label='RMSE', marker='o')\n",
    "plt.plot(fractions_removed, maes, label='MAE', marker='s')\n",
    "plt.xlabel(\"Fraction of Ratings Removed\")\n",
    "plt.ylabel(\"Error\")\n",
    "plt.title(\"Cold-Start Degradation: Error vs. Data Removal\")\n",
    "plt.grid(True)\n",
    "plt.legend()\n",
    "fig"
   ],
   "metadata": {
    "collapsed": false
   }
  },
  {
   "cell_type": "markdown",
   "source": [
    "# Get users with 10-20 ratings"
   ],
   "metadata": {
    "collapsed": false
   }
  },
  {
   "cell_type": "code",
   "execution_count": 33,
   "outputs": [
    {
     "name": "stdout",
     "output_type": "stream",
     "text": [
      "Total ratings: 3037\n"
     ]
    }
   ],
   "source": [
    "low_activity_users = ratings['user_id'].value_counts()\n",
    "low_activity_user_ids = low_activity_users[(low_activity_users >= 20) & (low_activity_users <= 25)].index\n",
    "\n",
    "low_activity_users = ratings[ratings['user_id'].isin(low_activity_user_ids)]\n",
    "print(f\"Total ratings: {len(low_activity_users)}\")\n"
   ],
   "metadata": {
    "collapsed": false
   }
  },
  {
   "cell_type": "markdown",
   "source": [
    "# Train SVD on low activity users"
   ],
   "metadata": {
    "collapsed": false
   }
  },
  {
   "cell_type": "code",
   "execution_count": 56,
   "outputs": [
    {
     "name": "stdout",
     "output_type": "stream",
     "text": [
      "RMSE: 1.1007\n",
      "MAE:  0.9128\n",
      "[Low-Activity Users] RMSE: 1.1007, MAE: 0.9128\n"
     ]
    }
   ],
   "source": [
    "reader = Reader(rating_scale=(1, 5))\n",
    "\n",
    "train_df_low = low_activity_users[\n",
    "    ~low_activity_users.apply(lambda row: (row['user_id'], row['movie_id']) in test_pairs, axis=1)\n",
    "]\n",
    "\n",
    "data_low = Dataset.load_from_df(train_df_low[['user_id', 'movie_id', 'rating']], reader)\n",
    "trainset_low = data_low.build_full_trainset()\n",
    "\n",
    "algo_low = SVD()\n",
    "algo_low.fit(trainset_low)\n",
    "\n",
    "predictions_low = algo_low.test(testset_global)\n",
    "\n",
    "rmse_low = accuracy.rmse(predictions_low)\n",
    "mae_low = accuracy.mae(predictions_low)\n",
    "\n",
    "print(f\"[Low-Activity Users] RMSE: {rmse_low:.4f}, MAE: {mae_low:.4f}\")"
   ],
   "metadata": {
    "collapsed": false
   }
  },
  {
   "cell_type": "markdown",
   "source": [
    "# Take the users from the user database"
   ],
   "metadata": {
    "collapsed": false
   }
  },
  {
   "cell_type": "code",
   "execution_count": 44,
   "outputs": [
    {
     "name": "stdout",
     "output_type": "stream",
     "text": [
      "Retrieved 10 low-activity user profiles.\n"
     ]
    }
   ],
   "source": [
    "user_df = pd.read_csv(f\"{DATA_DIR}u.user\", sep=\"|\", names=[\"user_id\", \"age\", \"gender\", \"occupation\", \"zip_code\"])\n",
    "\n",
    "low_user_profiles = user_df[user_df['user_id'].isin(low_activity_user_ids)]\n",
    "\n",
    "low_user_profiles = low_user_profiles.sample(n=10, random_state=42)\n",
    "print(f\"Retrieved {len(low_user_profiles)} low-activity user profiles.\")"
   ],
   "metadata": {
    "collapsed": false
   }
  },
  {
   "cell_type": "markdown",
   "source": [
    "# Take movies with a lot of ratings"
   ],
   "metadata": {
    "collapsed": false
   }
  },
  {
   "cell_type": "code",
   "execution_count": 45,
   "outputs": [
    {
     "name": "stdout",
     "output_type": "stream",
     "text": [
      "Toy Story (1995); Get Shorty (1995); Twelve Monkeys (1995); Babe (1995); Dead Man Walking (1995); Seven (Se7en) (1995); Usual Suspects, The (1995); Mr. Holland's Opus (1995); Braveheart (1995); Birdcage, The (1996); Apollo 13 (1995); Star Wars (1977); Pulp Fiction (1994); Shawshank Redemption, The (1994); Forrest Gump (1994); Four Weddings and a Funeral (1994); Lion King, The (1994); Fugitive, The (1993); Jurassic Park (1993); Sleepless in Seattle (1993); Blade Runner (1982); Aladdin (1992); Terminator 2: Judgment Day (1991); Dances with Wolves (1990); Silence of the Lambs, The (1991); Fargo (1996); Truth About Cats & Dogs, The (1996); Rock, The (1996); Twister (1996); Independence Day (ID4) (1996); Phenomenon (1996); Godfather, The (1972); Wizard of Oz, The (1939); 2001: A Space Odyssey (1968); Sound of Music, The (1965); Die Hard (1988); Willy Wonka and the Chocolate Factory (1971); Fish Called Wanda, A (1988); Top Gun (1986); Monty Python and the Holy Grail (1974); Empire Strikes Back, The (1980); Princess Bride, The (1987); Raiders of the Lost Ark (1981); Brazil (1985); Aliens (1986); Clockwork Orange, A (1971); Apocalypse Now (1979); Return of the Jedi (1983); GoodFellas (1990); Alien (1979); Psycho (1960); Blues Brothers, The (1980); Godfather: Part II, The (1974); Amadeus (1984); Sting, The (1973); Terminator, The (1984); Dead Poets Society (1989); Graduate, The (1967); Shining, The (1980); Groundhog Day (1993); Back to the Future (1985); Indiana Jones and the Last Crusade (1989); M*A*S*H (1970); Field of Dreams (1989); When Harry Met Sally... (1989); Star Trek: First Contact (1996); Star Trek: The Wrath of Khan (1982); Jaws (1975); Mars Attacks! (1996); Jerry Maguire (1996); Raising Arizona (1987); Devil's Own, The (1997); Men in Black (1997); Contact (1997); Hunt for Red October, The (1990); Chasing Amy (1997); Full Monty, The (1997); Starship Troopers (1997); Heat (1995); Sense and Sensibility (1995); Leaving Las Vegas (1995); Time to Kill, A (1996); English Patient, The (1996); Scream (1996); Evita (1996); Liar Liar (1997); Air Force One (1997); In & Out (1997); L.A. Confidential (1997); Titanic (1997); Schindler's List (1993); Murder at 1600 (1997); Dante's Peak (1997); Conspiracy Theory (1997); Game, The (1997); One Flew Over the Cuckoo's Nest (1975); True Lies (1994); Batman (1989); Mission: Impossible (1996); E.T. the Extra-Terrestrial (1982); To Kill a Mockingbird (1962); Butch Cassidy and the Sundance Kid (1969); Courage Under Fire (1996); Trainspotting (1996); Casablanca (1942); It's a Wonderful Life (1946); People vs. Larry Flynt, The (1996); Boot, Das (1981); Broken Arrow (1996); Speed (1994); Beauty and the Beast (1991); Eraser (1996); Rear Window (1954); Stand by Me (1986); Volcano (1997); Ransom (1996); Saint, The (1997)\n"
     ]
    },
    {
     "name": "stderr",
     "output_type": "stream",
     "text": [
      "C:\\Users\\User\\AppData\\Local\\Temp\\ipykernel_17620\\3940061407.py:9: SettingWithCopyWarning: \n",
      "A value is trying to be set on a copy of a slice from a DataFrame.\n",
      "Try using .loc[row_indexer,col_indexer] = value instead\n",
      "\n",
      "See the caveats in the documentation: https://pandas.pydata.org/pandas-docs/stable/user_guide/indexing.html#returning-a-view-versus-a-copy\n",
      "  movies_with_many_ratings['title'] = movies_with_many_ratings['title'].str.replace('|', ';')\n"
     ]
    }
   ],
   "source": [
    "items = pd.read_csv(f'{DATA_DIR}u.item', sep='|', encoding='latin-1', names=['movie_id', 'title', 'release_date', 'video_release_date', 'imdb_url', 'unknown', 'action', 'adventure', 'animation', 'children', 'comedy', 'crime', 'documentary', 'drama', 'fantasy', 'film_noir', 'horror', 'musical', 'mystery', 'romance', 'sci_fi', 'thriller', 'war', 'western'])\n",
    "\n",
    "temp = ratings.groupby('movie_id').size()\n",
    "\n",
    "frequent_item_ids = temp[temp > 200].index\n",
    "\n",
    "movies_with_many_ratings = items[items['movie_id'].isin(frequent_item_ids)]\n",
    "\n",
    "movies_with_many_ratings['title'] = movies_with_many_ratings['title'].str.replace('|', ';')\n",
    "\n",
    "titles_string = '; '.join(movies_with_many_ratings['title'].tolist())\n",
    "\n",
    "print(titles_string)"
   ],
   "metadata": {
    "collapsed": false
   }
  },
  {
   "cell_type": "markdown",
   "source": [
    "# Prompt"
   ],
   "metadata": {
    "collapsed": false
   }
  },
  {
   "cell_type": "code",
   "execution_count": 66,
   "outputs": [],
   "source": [
    "prompt = f\"\"\"\n",
    "You are a movie recommendation assistant tasked with simulating user ratings in a recommendation system. I will provide:\n",
    "\n",
    "1. A list of movie titles.\n",
    "2. A list of user profiles, each with the following attributes: age, gender, occupation, and zip code. It will also include a user ID you should use only for identification purposes.\n",
    "\n",
    "For each user, select 30 movies from the list that you believe match their preferences, based on their profile. The selection should reflect a reasonable balance of relevance and diversity (not overly narrow, but not random either).\n",
    "\n",
    "For each selected movie, assign a realistic rating from 1 to 5:\n",
    "- 1 = strongly disliked\n",
    "- 5 = strongly liked\n",
    "\n",
    "Return the results in **JSON format** using the structure below:\n",
    "\n",
    "[\n",
    "  {{\n",
    "    \"user_id\": ...,\n",
    "    \"recommendations\": [\n",
    "      {{\"title\": \"...\", \"rating\": ...}},\n",
    "      ...\n",
    "    ]\n",
    "  }},\n",
    "  ...\n",
    "]\n",
    "\n",
    "The movie titles are as follows:\n",
    "{titles_string}\n",
    "\n",
    "The user profiles are as follows:\n",
    "{low_user_profiles}\n",
    "\n",
    "\"\"\""
   ],
   "metadata": {
    "collapsed": false
   }
  },
  {
   "cell_type": "markdown",
   "source": [
    "# Generate LLM recommendations"
   ],
   "metadata": {
    "collapsed": false
   }
  },
  {
   "cell_type": "code",
   "execution_count": 67,
   "outputs": [
    {
     "name": "stdout",
     "output_type": "stream",
     "text": [
      "```json\n",
      "[\n",
      "  {\n",
      "    \"user_id\": 725,\n",
      "    \"recommendations\": [\n",
      "      {\"title\": \"Toy Story (1995)\", \"rating\": 5},\n",
      "      {\"title\": \"Get Shorty (1995)\", \"rating\": 4},\n",
      "      {\"title\": \"Twelve Monkeys (1995)\", \"rating\": 3},\n",
      "      {\"title\": \"Usual Suspects, The (1995)\", \"rating\": 5},\n",
      "      {\"title\": \"Apollo 13 (1995)\", \"rating\": 4},\n",
      "      {\"title\": \"Star Wars (1977)\", \"rating\": 5},\n",
      "      {\"title\": \"Pulp Fiction (1994)\", \"rating\": 5},\n",
      "      {\"title\": \"Forrest Gump (1994)\", \"rating\": 4},\n",
      "      {\"title\": \"Jurassic Park (1993)\", \"rating\": 4},\n",
      "      {\"title\": \"Terminator 2: Judgment Day (1991)\", \"rating\": 5},\n",
      "      {\"title\": \"Fargo (1996)\", \"rating\": 4},\n",
      "      {\"title\": \"Rock, The (1996)\", \"rating\": 4},\n",
      "      {\"title\": \"Independence Day (ID4) (1996)\", \"rating\": 4},\n",
      "      {\"title\": \"Die Hard (1988)\", \"rating\": 5},\n",
      "      {\"title\": \"Top Gun (1986)\", \"rating\": 3},\n",
      "      {\"title\": \"Raiders of the Lost Ark (1981)\", \"rating\": 5},\n",
      "      {\"title\": \"Aliens (1986)\", \"rating\": 4},\n",
      "      {\"title\": \"Return of the Jedi (1983)\", \"rating\": 5},\n",
      "      {\"title\": \"Back to the Future (1985)\", \"rating\": 5},\n",
      "      {\"title\": \"Indiana Jones and the Last Crusade (1989)\", \"rating\": 4},\n",
      "      {\"title\": \"Star Trek: First Contact (1996)\", \"rating\": 4},\n",
      "      {\"title\": \"Men in Black (1997)\", \"rating\": 5},\n",
      "      {\"title\": \"Contact (1997)\", \"rating\": 4},\n",
      "      {\"title\": \"Starship Troopers (1997)\", \"rating\": 3},\n",
      "      {\"title\": \"Heat (1995)\", \"rating\": 4},\n",
      "      {\"title\": \"Scream (1996)\", \"rating\": 4},\n",
      "      {\"title\": \"Liar Liar (1997)\", \"rating\": 3},\n",
      "      {\"title\": \"Air Force One (1997)\", \"rating\": 3},\n",
      "       {\"title\": \"Mission: Impossible (1996)\", \"rating\": 4},\n",
      "      {\"title\": \"True Lies (1994)\", \"rating\": 4}\n",
      "    ]\n",
      "  },\n",
      "  {\n",
      "    \"user_id\": 723,\n",
      "    \"recommendations\": [\n",
      "      {\"title\": \"Get Shorty (1995)\", \"rating\": 4},\n",
      "      {\"title\": \"Seven (Se7en) (1995)\", \"rating\": 5},\n",
      "      {\"title\": \"Usual Suspects, The (1995)\", \"rating\": 5},\n",
      "      {\"title\": \"Apollo 13 (1995)\", \"rating\": 4},\n",
      "      {\"title\": \"Pulp Fiction (1994)\", \"rating\": 5},\n",
      "      {\"title\": \"Shawshank Redemption, The (1994)\", \"rating\": 5},\n",
      "      {\"title\": \"Fugitive, The (1993)\", \"rating\": 4},\n",
      "      {\"title\": \"Terminator 2: Judgment Day (1991)\", \"rating\": 4},\n",
      "      {\"title\": \"Silence of the Lambs, The (1991)\", \"rating\": 5},\n",
      "      {\"title\": \"Fargo (1996)\", \"rating\": 5},\n",
      "      {\"title\": \"Rock, The (1996)\", \"rating\": 4},\n",
      "      {\"title\": \"Independence Day (ID4) (1996)\", \"rating\": 3},\n",
      "      {\"title\": \"Godfather, The (1972)\", \"rating\": 5},\n",
      "      {\"title\": \"Die Hard (1988)\", \"rating\": 5},\n",
      "      {\"title\": \"Fish Called Wanda, A (1988)\", \"rating\": 4},\n",
      "      {\"title\": \"Empire Strikes Back, The (1980)\", \"rating\": 4},\n",
      "      {\"title\": \"Raiders of the Lost Ark (1981)\", \"rating\": 5},\n",
      "      {\"title\": \"Aliens (1986)\", \"rating\": 4},\n",
      "      {\"title\": \"Clockwork Orange, A (1971)\", \"rating\": 3},\n",
      "      {\"title\": \"Apocalypse Now (1979)\", \"rating\": 4},\n",
      "      {\"title\": \"GoodFellas (1990)\", \"rating\": 5},\n",
      "      {\"title\": \"Alien (1979)\", \"rating\": 4},\n",
      "      {\"title\": \"Godfather: Part II, The (1974)\", \"rating\": 5},\n",
      "      {\"title\": \"Terminator, The (1984)\", \"rating\": 4},\n",
      "      {\"title\": \"Back to the Future (1985)\", \"rating\": 4},\n",
      "      {\"title\": \"Jaws (1975)\", \"rating\": 4},\n",
      "      {\"title\": \"Men in Black (1997)\", \"rating\": 4},\n",
      "      {\"title\": \"L.A. Confidential (1997)\", \"rating\": 5},\n",
      "      {\"title\": \"Game, The (1997)\", \"rating\": 4},\n",
      "      {\"title\": \"Mission: Impossible (1996)\", \"rating\": 4}\n",
      "    ]\n",
      "  },\n",
      "  {\n",
      "    \"user_id\": 55,\n",
      "    \"recommendations\": [\n",
      "      {\"title\": \"Twelve Monkeys (1995)\", \"rating\": 4},\n",
      "      {\"title\": \"Seven (Se7en) (1995)\", \"rating\": 5},\n",
      "      {\"title\": \"Usual Suspects, The (1995)\", \"rating\": 5},\n",
      "      {\"title\": \"Apollo 13 (1995)\", \"rating\": 4},\n",
      "      {\"title\": \"Star Wars (1977)\", \"rating\": 5},\n",
      "      {\"title\": \"Pulp Fiction (1994)\", \"rating\": 5},\n",
      "      {\"title\": \"Shawshank Redemption, The (1994)\", \"rating\": 5},\n",
      "      {\"title\": \"Forrest Gump (1994)\", \"rating\": 4},\n",
      "      {\"title\": \"Jurassic Park (1993)\", \"rating\": 4},\n",
      "      {\"title\": \"Blade Runner (1982)\", \"rating\": 5},\n",
      "      {\"title\": \"Terminator 2: Judgment Day (1991)\", \"rating\": 5},\n",
      "      {\"title\": \"Fargo (1996)\", \"rating\": 5},\n",
      "      {\"title\": \"Rock, The (1996)\", \"rating\": 4},\n",
      "      {\"title\": \"2001: A Space Odyssey (1968)\", \"rating\": 4},\n",
      "      {\"title\": \"Die Hard (1988)\", \"rating\": 5},\n",
      "      {\"title\": \"Monty Python and the Holy Grail (1974)\", \"rating\": 4},\n",
      "      {\"title\": \"Empire Strikes Back, The (1980)\", \"rating\": 5},\n",
      "      {\"title\": \"Brazil (1985)\", \"rating\": 4},\n",
      "      {\"title\": \"Aliens (1986)\", \"rating\": 4},\n",
      "      {\"title\": \"Clockwork Orange, A (1971)\", \"rating\": 3},\n",
      "      {\"title\": \"GoodFellas (1990)\", \"rating\": 5},\n",
      "      {\"title\": \"Alien (1979)\", \"rating\": 4},\n",
      "      {\"title\": \"Godfather: Part II, The (1974)\", \"rating\": 5},\n",
      "      {\"title\": \"Amadeus (1984)\", \"rating\": 4},\n",
      "      {\"title\": \"Terminator, The (1984)\", \"rating\": 4},\n",
      "      {\"title\": \"Back to the Future (1985)\", \"rating\": 4},\n",
      "      {\"title\": \"Star Trek: First Contact (1996)\", \"rating\": 4},\n",
      "      {\"title\": \"Jaws (1975)\", \"rating\": 4},\n",
      "      {\"title\": \"Men in Black (1997)\", \"rating\": 4},\n",
      "      {\"title\": \"L.A. Confidential (1997)\", \"rating\": 5}\n",
      "    ]\n",
      "  },\n",
      "  {\n",
      "    \"user_id\": 140,\n",
      "    \"recommendations\": [\n",
      "      {\"title\": \"Toy Story (1995)\", \"rating\": 5},\n",
      "      {\"title\": \"Babe (1995)\", \"rating\": 4},\n",
      "      {\"title\": \"Mr. Holland's Opus (1995)\", \"rating\": 4},\n",
      "      {\"title\": \"Apollo 13 (1995)\", \"rating\": 4},\n",
      "      {\"title\": \"Star Wars (1977)\", \"rating\": 5},\n",
      "      {\"title\": \"Pulp Fiction (1994)\", \"rating\": 4},\n",
      "      {\"title\": \"Shawshank Redemption, The (1994)\", \"rating\": 5},\n",
      "      {\"title\": \"Forrest Gump (1994)\", \"rating\": 5},\n",
      "      {\"title\": \"Four Weddings and a Funeral (1994)\", \"rating\": 4},\n",
      "      {\"title\": \"Lion King, The (1994)\", \"rating\": 5},\n",
      "      {\"title\": \"Sleepless in Seattle (1993)\", \"rating\": 4},\n",
      "      {\"title\": \"Aladdin (1992)\", \"rating\": 5},\n",
      "      {\"title\": \"Fargo (1996)\", \"rating\": 4},\n",
      "      {\"title\": \"Truth About Cats & Dogs, The (1996)\", \"rating\": 3},\n",
      "      {\"title\": \"Independence Day (ID4) (1996)\", \"rating\": 3},\n",
      "      {\"title\": \"Wizard of Oz, The (1939)\", \"rating\": 5},\n",
      "      {\"title\": \"Sound of Music, The (1965)\", \"rating\": 5},\n",
      "      {\"title\": \"Willy Wonka and the Chocolate Factory (1971)\", \"rating\": 4},\n",
      "      {\"title\": \"Princess Bride, The (1987)\", \"rating\": 5},\n",
      "      {\"title\": \"Return of the Jedi (1983)\", \"rating\": 4},\n",
      "      {\"title\": \"Dead Poets Society (1989)\", \"rating\": 4},\n",
      "      {\"title\": \"Groundhog Day (1993)\", \"rating\": 4},\n",
      "      {\"title\": \"When Harry Met Sally... (1989)\", \"rating\": 5},\n",
      "      {\"title\": \"Jerry Maguire (1996)\", \"rating\": 5},\n",
      "      {\"title\": \"Sense and Sensibility (1995)\", \"rating\": 4},\n",
      "      {\"title\": \"English Patient, The (1996)\", \"rating\": 4},\n",
      "      {\"title\": \"Titanic (1997)\", \"rating\": 5},\n",
      "      {\"title\": \"Beauty and the Beast (1991)\", \"rating\": 5},\n",
      "      {\"title\": \"E.T. the Extra-Terrestrial (1982)\", \"rating\": 5},\n",
      "      {\"title\": \"It's a Wonderful Life (1946)\", \"rating\": 5}\n",
      "    ]\n",
      "  },\n",
      "  {\n",
      "    \"user_id\": 824,\n",
      "    \"recommendations\": [\n",
      "      {\"title\": \"Get Shorty (1995)\", \"rating\": 4},\n",
      "      {\"title\": \"Twelve Monkeys (1995)\", \"rating\": 4},\n",
      "      {\"title\": \"Braveheart (1995)\", \"rating\": 4},\n",
      "      {\"title\": \"Apollo 13 (1995)\", \"rating\": 4},\n",
      "      {\"title\": \"Star Wars (1977)\", \"rating\": 5},\n",
      "      {\"title\": \"Pulp Fiction (1994)\", \"rating\": 5},\n",
      "      {\"title\": \"Fugitive, The (1993)\", \"rating\": 4},\n",
      "      {\"title\": \"Jurassic Park (1993)\", \"rating\": 4},\n",
      "      {\"title\": \"Terminator 2: Judgment Day (1991)\", \"rating\": 5},\n",
      "      {\"title\": \"Fargo (1996)\", \"rating\": 4},\n",
      "      {\"title\": \"Rock, The (1996)\", \"rating\": 4},\n",
      "      {\"title\": \"Twister (1996)\", \"rating\": 3},\n",
      "      {\"title\": \"Independence Day (ID4) (1996)\", \"rating\": 4},\n",
      "      {\"title\": \"Die Hard (1988)\", \"rating\": 5},\n",
      "      {\"title\": \"Top Gun (1986)\", \"rating\": 3},\n",
      "      {\"title\": \"Monty Python and the Holy Grail (1974)\", \"rating\": 4},\n",
      "      {\"title\": \"Empire Strikes Back, The (1980)\", \"rating\": 4},\n",
      "      {\"title\": \"Raiders of the Lost Ark (1981)\", \"rating\": 5},\n",
      "      {\"title\": \"Aliens (1986)\", \"rating\": 4},\n",
      "      {\"title\": \"Return of the Jedi (1983)\", \"rating\": 5},\n",
      "      {\"title\": \"Back to the Future (1985)\", \"rating\": 5},\n",
      "      {\"title\": \"Indiana Jones and the Last Crusade (1989)\", \"rating\": 4},\n",
      "      {\"title\": \"Star Trek: First Contact (1996)\", \"rating\": 4},\n",
      "      {\"title\": \"Jaws (1975)\", \"rating\": 4},\n",
      "      {\"title\": \"Men in Black (1997)\", \"rating\": 4},\n",
      "      {\"title\": \"Heat (1995)\", \"rating\": 4},\n",
      "      {\"title\": \"Air Force One (1997)\", \"rating\": 3},\n",
      "       {\"title\": \"Mission: Impossible (1996)\", \"rating\": 4},\n",
      "      {\"title\": \"True Lies (1994)\", \"rating\": 4},\n",
      "      {\"title\": \"Speed (1994)\", \"rating\": 3}\n",
      "    ]\n",
      "  },\n",
      "  {\n",
      "    \"user_id\": 400,\n",
      "    \"recommendations\": [\n",
      "      {\"title\": \"Babe (1995)\", \"rating\": 4},\n",
      "      {\"title\": \"Mr. Holland's Opus (1995)\", \"rating\": 4},\n",
      "      {\"title\": \"Birdcage, The (1996)\", \"rating\": 3},\n",
      "      {\"title\": \"Apollo 13 (1995)\", \"rating\": 4},\n",
      "      {\"title\": \"Star Wars (1977)\", \"rating\": 4},\n",
      "      {\"title\": \"Pulp Fiction (1994)\", \"rating\": 4},\n",
      "      {\"title\": \"Shawshank Redemption, The (1994)\", \"rating\": 5},\n",
      "      {\"title\": \"Forrest Gump (1994)\", \"rating\": 5},\n",
      "      {\"title\": \"Four Weddings and a Funeral (1994)\", \"rating\": 5},\n",
      "      {\"title\": \"Lion King, The (1994)\", \"rating\": 5},\n",
      "      {\"title\": \"Sleepless in Seattle (1993)\", \"rating\": 4},\n",
      "      {\"title\": \"Aladdin (1992)\", \"rating\": 5},\n",
      "      {\"title\": \"Fargo (1996)\", \"rating\": 4},\n",
      "      {\"title\": \"Truth About Cats & Dogs, The (1996)\", \"rating\": 3},\n",
      "      {\"title\": \"English Patient, The (1996)\", \"rating\": 5},\n",
      "      {\"title\": \"Sound of Music, The (1965)\", \"rating\": 5},\n",
      "      {\"title\": \"Princess Bride, The (1987)\", \"rating\": 5},\n",
      "      {\"title\": \"Dead Poets Society (1989)\", \"rating\": 4},\n",
      "      {\"title\": \"Graduate, The (1967)\", \"rating\": 4},\n",
      "      {\"title\": \"Groundhog Day (1993)\", \"rating\": 4},\n",
      "      {\"title\": \"When Harry Met Sally... (1989)\", \"rating\": 5},\n",
      "      {\"title\": \"Jerry Maguire (1996)\", \"rating\": 5},\n",
      "      {\"title\": \"Sense and Sensibility (1995)\", \"rating\": 5},\n",
      "      {\"title\": \"Titanic (1997)\", \"rating\": 5},\n",
      "      {\"title\": \"Beauty and the Beast (1991)\", \"rating\": 5},\n",
      "      {\"title\": \"E.T. the Extra-Terrestrial (1982)\", \"rating\": 5},\n",
      "      {\"title\": \"To Kill a Mockingbird (1962)\", \"rating\": 5},\n",
      "      {\"title\": \"Casablanca (1942)\", \"rating\": 5},\n",
      "      {\"title\": \"It's a Wonderful Life (1946)\", \"rating\": 5},\n",
      "      {\"title\": \"Full Monty, The (1997)\", \"rating\": 4}\n",
      "    ]\n",
      "  },\n",
      "    {\n",
      "    \"user_id\": 384,\n",
      "    \"recommendations\": [\n",
      "      {\"title\": \"Twelve Monkeys (1995)\", \"rating\": 4},\n",
      "      {\"title\": \"Seven (Se7en) (1995)\", \"rating\": 5},\n",
      "      {\"title\": \"Usual Suspects, The (1995)\", \"rating\": 5},\n",
      "      {\"title\": \"Apollo 13 (1995)\", \"rating\": 4},\n",
      "      {\"title\": \"Star Wars (1977)\", \"rating\": 5},\n",
      "      {\"title\": \"Pulp Fiction (1994)\", \"rating\": 5},\n",
      "      {\"title\": \"Shawshank Redemption, The (1994)\", \"rating\": 5},\n",
      "      {\"title\": \"Fugitive, The (1993)\", \"rating\": 4},\n",
      "      {\"title\": \"Jurassic Park (1993)\", \"rating\": 4},\n",
      "      {\"title\": \"Blade Runner (1982)\", \"rating\": 5},\n",
      "      {\"title\": \"Terminator 2: Judgment Day (1991)\", \"rating\": 5},\n",
      "      {\"title\": \"Fargo (1996)\", \"rating\": 5},\n",
      "      {\"title\": \"Rock, The (1996)\", \"rating\": 4},\n",
      "      {\"title\": \"2001: A Space Odyssey (1968)\", \"rating\": 4},\n",
      "      {\"title\": \"Die Hard (1988)\", \"rating\": 5},\n",
      "      {\"title\": \"Monty Python and the Holy Grail (1974)\", \"rating\": 4},\n",
      "      {\"title\": \"Empire Strikes Back, The (1980)\", \"rating\": 5},\n",
      "      {\"title\": \"Brazil (1985)\", \"rating\": 4},\n",
      "      {\"title\": \"Aliens (1986)\", \"rating\": 4},\n",
      "      {\"title\": \"Clockwork Orange, A (1971)\", \"rating\": 3},\n",
      "      {\"title\": \"GoodFellas (1990)\", \"rating\": 5},\n",
      "      {\"title\": \"Alien (1979)\", \"rating\": 4},\n",
      "      {\"title\": \"Godfather: Part II, The (1974)\", \"rating\": 5},\n",
      "      {\"title\": \"Amadeus (1984)\", \"rating\": 4},\n",
      "      {\"title\": \"Terminator, The (1984)\", \"rating\": 4},\n",
      "      {\"title\": \"Back to the Future (1985)\", \"rating\": 4},\n",
      "      {\"title\": \"Star Trek: First Contact (1996)\", \"rating\": 4},\n",
      "      {\"title\": \"Jaws (1975)\", \"rating\": 4},\n",
      "      {\"title\": \"Men in Black (1997)\", \"rating\": 4},\n",
      "      {\"title\": \"L.A. Confidential (1997)\", \"rating\": 5}\n",
      "    ]\n",
      "  },\n",
      "  {\n",
      "     \"user_id\": 808,\n",
      "    \"recommendations\": [\n",
      "      {\"title\": \"Get Shorty (1995)\", \"rating\": 4},\n",
      "      {\"title\": \"Twelve Monkeys (1995)\", \"rating\": 4},\n",
      "      {\"title\": \"Braveheart (1995)\", \"rating\": 4},\n",
      "      {\"title\": \"Apollo 13 (1995)\", \"rating\": 4},\n",
      "      {\"title\": \"Star Wars (1977)\", \"rating\": 5},\n",
      "      {\"title\": \"Pulp Fiction (1994)\", \"rating\": 5},\n",
      "      {\"title\": \"Fugitive, The (1993)\", \"rating\": 4},\n",
      "      {\"title\": \"Jurassic Park (1993)\", \"rating\": 4},\n",
      "      {\"title\": \"Terminator 2: Judgment Day (1991)\", \"rating\": 5},\n",
      "      {\"title\": \"Fargo (1996)\", \"rating\": 4},\n",
      "      {\"title\": \"Rock, The (1996)\", \"rating\": 4},\n",
      "      {\"title\": \"Twister (1996)\", \"rating\": 3},\n",
      "      {\"title\": \"Independence Day (ID4) (1996)\", \"rating\": 4},\n",
      "      {\"title\": \"Die Hard (1988)\", \"rating\": 5},\n",
      "      {\"title\": \"Top Gun (1986)\", \"rating\": 3},\n",
      "      {\"title\": \"Monty Python and the Holy Grail (1974)\", \"rating\": 4},\n",
      "      {\"title\": \"Empire Strikes Back, The (1980)\", \"rating\": 4},\n",
      "      {\"title\": \"Raiders of the Lost Ark (1981)\", \"rating\": 5},\n",
      "      {\"title\": \"Aliens (1986)\", \"rating\": 4},\n",
      "      {\"title\": \"Return of the Jedi (1983)\", \"rating\": 5},\n",
      "      {\"title\": \"Back to the Future (1985)\", \"rating\": 5},\n",
      "      {\"title\": \"Indiana Jones and the Last Crusade (1989)\", \"rating\": 4},\n",
      "      {\"title\": \"Star Trek: First Contact (1996)\", \"rating\": 4},\n",
      "      {\"title\": \"Jaws (1975)\", \"rating\": 4},\n",
      "      {\"title\": \"Men in Black (1997)\", \"rating\": 4},\n",
      "      {\"title\": \"Heat (1995)\", \"rating\": 4},\n",
      "      {\"title\": \"Air Force One (1997)\", \"rating\": 3},\n",
      "       {\"title\": \"Mission: Impossible (1996)\", \"rating\": 4},\n",
      "      {\"title\": \"True Lies (1994)\", \"rating\": 4},\n",
      "      {\"title\": \"Speed (1994)\", \"rating\": 3}\n",
      "    ]\n",
      "  },\n",
      "  {\n",
      "     \"user_id\": 895,\n",
      "    \"recommendations\": [\n",
      "      {\"title\": \"Babe (1995)\", \"rating\": 4},\n",
      "      {\"title\": \"Mr. Holland's Opus (1995)\", \"rating\": 4},\n",
      "      {\"title\": \"Birdcage, The (1996)\", \"rating\": 3},\n",
      "      {\"title\": \"Apollo 13 (1995)\", \"rating\": 4},\n",
      "      {\"title\": \"Star Wars (1977)\", \"rating\": 4},\n",
      "      {\"title\": \"Pulp Fiction (1994)\", \"rating\": 4},\n",
      "      {\"title\": \"Shawshank Redemption, The (1994)\", \"rating\": 5},\n",
      "      {\"title\": \"Forrest Gump (1994)\", \"rating\": 5},\n",
      "      {\"title\": \"Four Weddings and a Funeral (1994)\", \"rating\": 5},\n",
      "      {\"title\": \"Lion King, The (1994)\", \"rating\": 5},\n",
      "      {\"title\": \"Sleepless in Seattle (1993)\", \"rating\": 4},\n",
      "      {\"title\": \"Aladdin (1992)\", \"rating\": 5},\n",
      "      {\"title\": \"Fargo (1996)\", \"rating\": 4},\n",
      "      {\"title\": \"Truth About Cats & Dogs, The (1996)\", \"rating\": 3},\n",
      "      {\"title\": \"English Patient, The (1996)\", \"rating\": 5},\n",
      "      {\"title\": \"Sound of Music, The (1965)\", \"rating\": 5},\n",
      "      {\"title\": \"Princess Bride, The (1987)\", \"rating\": 5},\n",
      "      {\"title\": \"Dead Poets Society (1989)\", \"rating\": 4},\n",
      "      {\"title\": \"Graduate, The (1967)\", \"rating\": 4},\n",
      "      {\"title\": \"Groundhog Day (1993)\", \"rating\": 4},\n",
      "      {\"title\": \"When Harry Met Sally... (1989)\", \"rating\": 5},\n",
      "      {\"title\": \"Jerry Maguire (1996)\", \"rating\": 5},\n",
      "      {\"title\": \"Sense and Sensibility (1995)\", \"rating\": 5},\n",
      "      {\"title\": \"Titanic (1997)\", \"rating\": 5},\n",
      "      {\"title\": \"Beauty and the Beast (1991)\", \"rating\": 5},\n",
      "      {\"title\": \"E.T. the Extra-Terrestrial (1982)\", \"rating\": 5},\n",
      "      {\"title\": \"To Kill a Mockingbird (1962)\", \"rating\": 5},\n",
      "      {\"title\": \"Casablanca (1942)\", \"rating\": 5},\n",
      "      {\"title\": \"It's a Wonderful Life (1946)\", \"rating\": 5},\n",
      "      {\"title\": \"Full Monty, The (1997)\", \"rating\": 4}\n",
      "    ]\n",
      "  },\n",
      "    {\n",
      "    \"user_id\": 571,\n",
      "    \"recommendations\": [\n",
      "      {\"title\": \"Get Shorty (1995)\", \"rating\": 4},\n",
      "      {\"title\": \"Seven (Se7en) (1995)\", \"rating\": 5},\n",
      "      {\"title\": \"Usual Suspects, The (1995)\", \"rating\": 5},\n",
      "      {\"title\": \"Apollo 13 (1995)\", \"rating\": 4},\n",
      "      {\"title\": \"Pulp Fiction (1994)\", \"rating\": 5},\n",
      "      {\"title\": \"Shawshank Redemption, The (1994)\", \"rating\": 5},\n",
      "      {\"title\": \"Fugitive, The (1993)\", \"rating\": 4},\n",
      "      {\"title\": \"Terminator 2: Judgment Day (1991)\", \"rating\": 4},\n",
      "      {\"title\": \"Silence of the Lambs, The (1991)\", \"rating\": 5},\n",
      "      {\"title\": \"Fargo (1996)\", \"rating\": 5},\n",
      "      {\"title\": \"Rock, The (1996)\", \"rating\": 4},\n",
      "      {\"title\": \"Independence Day (ID4) (1996)\", \"rating\": 3},\n",
      "      {\"title\": \"Godfather, The (1972)\", \"rating\": 5},\n",
      "      {\"title\": \"Die Hard (1988)\", \"rating\": 5},\n",
      "      {\"title\": \"Fish Called Wanda, A (1988)\", \"rating\": 4},\n",
      "      {\"title\": \"Empire Strikes Back, The (1980)\", \"rating\": 4},\n",
      "      {\"title\": \"Raiders of the Lost Ark (1981)\", \"rating\": 5},\n",
      "      {\"title\": \"Aliens (1986)\", \"rating\": 4},\n",
      "      {\"title\": \"Clockwork Orange, A (1971)\", \"rating\": 3},\n",
      "      {\"title\": \"Apocalypse Now (1979)\", \"rating\": 4},\n",
      "      {\"title\": \"GoodFellas (1990)\", \"rating\": 5},\n",
      "      {\"title\": \"Alien (1979)\", \"rating\": 4},\n",
      "      {\"title\": \"Godfather: Part II, The (1974)\", \"rating\": 5},\n",
      "      {\"title\": \"Terminator, The (1984)\", \"rating\": 4},\n",
      "      {\"title\": \"Back to the Future (1985)\", \"rating\": 4},\n",
      "      {\"title\": \"Jaws (1975)\", \"rating\": 4},\n",
      "      {\"title\": \"Men in Black (1997)\", \"rating\": 4},\n",
      "      {\"title\": \"L.A. Confidential (1997)\", \"rating\": 5},\n",
      "      {\"title\": \"Game, The (1997)\", \"rating\": 4},\n",
      "      {\"title\": \"Mission: Impossible (1996)\", \"rating\": 4}\n",
      "    ]\n",
      "  }\n",
      "]\n",
      "```\n"
     ]
    }
   ],
   "source": [
    "from google import genai\n",
    "#\n",
    "client = genai.Client(api_key=\"key\")\n",
    "\n",
    "response = client.models.generate_content(\n",
    "    model=\"gemini-2.0-flash\",\n",
    "    contents=prompt,\n",
    ")\n",
    "\n",
    "print(response.text)"
   ],
   "metadata": {
    "collapsed": false
   }
  },
  {
   "cell_type": "code",
   "execution_count": 68,
   "outputs": [
    {
     "name": "stdout",
     "output_type": "stream",
     "text": [
      "17381\n"
     ]
    }
   ],
   "source": [
    "text_response = response.text\n",
    "print(len(text_response))\n"
   ],
   "metadata": {
    "collapsed": false
   }
  },
  {
   "cell_type": "code",
   "execution_count": 69,
   "outputs": [
    {
     "data": {
      "text/plain": "     user_id  movie_id  rating\n0        725         1       5\n1        725         4       4\n2        725         7       3\n3        725        12       5\n4        725        28       4\n..       ...       ...     ...\n295      571       234       4\n296      571       257       4\n297      571       302       5\n298      571       333       4\n299      571       405       4\n\n[300 rows x 3 columns]",
      "text/html": "<div>\n<style scoped>\n    .dataframe tbody tr th:only-of-type {\n        vertical-align: middle;\n    }\n\n    .dataframe tbody tr th {\n        vertical-align: top;\n    }\n\n    .dataframe thead th {\n        text-align: right;\n    }\n</style>\n<table border=\"1\" class=\"dataframe\">\n  <thead>\n    <tr style=\"text-align: right;\">\n      <th></th>\n      <th>user_id</th>\n      <th>movie_id</th>\n      <th>rating</th>\n    </tr>\n  </thead>\n  <tbody>\n    <tr>\n      <th>0</th>\n      <td>725</td>\n      <td>1</td>\n      <td>5</td>\n    </tr>\n    <tr>\n      <th>1</th>\n      <td>725</td>\n      <td>4</td>\n      <td>4</td>\n    </tr>\n    <tr>\n      <th>2</th>\n      <td>725</td>\n      <td>7</td>\n      <td>3</td>\n    </tr>\n    <tr>\n      <th>3</th>\n      <td>725</td>\n      <td>12</td>\n      <td>5</td>\n    </tr>\n    <tr>\n      <th>4</th>\n      <td>725</td>\n      <td>28</td>\n      <td>4</td>\n    </tr>\n    <tr>\n      <th>...</th>\n      <td>...</td>\n      <td>...</td>\n      <td>...</td>\n    </tr>\n    <tr>\n      <th>295</th>\n      <td>571</td>\n      <td>234</td>\n      <td>4</td>\n    </tr>\n    <tr>\n      <th>296</th>\n      <td>571</td>\n      <td>257</td>\n      <td>4</td>\n    </tr>\n    <tr>\n      <th>297</th>\n      <td>571</td>\n      <td>302</td>\n      <td>5</td>\n    </tr>\n    <tr>\n      <th>298</th>\n      <td>571</td>\n      <td>333</td>\n      <td>4</td>\n    </tr>\n    <tr>\n      <th>299</th>\n      <td>571</td>\n      <td>405</td>\n      <td>4</td>\n    </tr>\n  </tbody>\n</table>\n<p>300 rows × 3 columns</p>\n</div>"
     },
     "execution_count": 69,
     "metadata": {},
     "output_type": "execute_result"
    }
   ],
   "source": [
    "import json\n",
    "import pandas as pd\n",
    "\n",
    "item_title_to_id = dict(zip(items['title'], items['movie_id']))\n",
    "\n",
    "cleaned = text_response.strip()\n",
    "if cleaned.startswith(\"```json\"):\n",
    "    cleaned = cleaned[7:]\n",
    "if cleaned.startswith(\"```\"):\n",
    "    cleaned = cleaned[3:]\n",
    "if cleaned.endswith(\"```\"):\n",
    "    cleaned = cleaned[:-3]\n",
    "cleaned = cleaned.strip()\n",
    "\n",
    "parsed = json.loads(cleaned)\n",
    "\n",
    "ratings_data = []\n",
    "for user in parsed:\n",
    "    user_id = user[\"user_id\"]\n",
    "    for rec in user[\"recommendations\"]:\n",
    "        ratings_data.append({\n",
    "            \"user_id\": user_id,\n",
    "            \"movie_id\": item_title_to_id.get(rec[\"title\"], None),  # Use title to get item_id\n",
    "            \"rating\": rec[\"rating\"]\n",
    "        })\n",
    "\n",
    "ratings_df = pd.DataFrame(ratings_data)\n",
    "\n",
    "ratings_df"
   ],
   "metadata": {
    "collapsed": false
   }
  },
  {
   "cell_type": "markdown",
   "source": [
    "# Combine ratings with original ratings"
   ],
   "metadata": {
    "collapsed": false
   }
  },
  {
   "cell_type": "code",
   "execution_count": 70,
   "outputs": [
    {
     "name": "stdout",
     "output_type": "stream",
     "text": [
      "Original ratings: 3037\n",
      "Synthetic ratings: 300\n",
      "Combined total: 3337\n"
     ]
    },
    {
     "data": {
      "text/plain": "   user_id  movie_id  rating\n0      166       346       1\n1       50       246       3\n2      278       603       5\n3      242      1137       5\n4      260       322       4",
      "text/html": "<div>\n<style scoped>\n    .dataframe tbody tr th:only-of-type {\n        vertical-align: middle;\n    }\n\n    .dataframe tbody tr th {\n        vertical-align: top;\n    }\n\n    .dataframe thead th {\n        text-align: right;\n    }\n</style>\n<table border=\"1\" class=\"dataframe\">\n  <thead>\n    <tr style=\"text-align: right;\">\n      <th></th>\n      <th>user_id</th>\n      <th>movie_id</th>\n      <th>rating</th>\n    </tr>\n  </thead>\n  <tbody>\n    <tr>\n      <th>0</th>\n      <td>166</td>\n      <td>346</td>\n      <td>1</td>\n    </tr>\n    <tr>\n      <th>1</th>\n      <td>50</td>\n      <td>246</td>\n      <td>3</td>\n    </tr>\n    <tr>\n      <th>2</th>\n      <td>278</td>\n      <td>603</td>\n      <td>5</td>\n    </tr>\n    <tr>\n      <th>3</th>\n      <td>242</td>\n      <td>1137</td>\n      <td>5</td>\n    </tr>\n    <tr>\n      <th>4</th>\n      <td>260</td>\n      <td>322</td>\n      <td>4</td>\n    </tr>\n  </tbody>\n</table>\n</div>"
     },
     "execution_count": 70,
     "metadata": {},
     "output_type": "execute_result"
    }
   ],
   "source": [
    "ratings_df_clean = ratings_df.dropna(subset=['movie_id'])\n",
    "\n",
    "ratings_df_clean['movie_id'] = ratings_df_clean['movie_id'].astype(int)\n",
    "\n",
    "# Combine original + synthetic ratings\n",
    "combined_ratings = pd.concat([low_activity_users[['user_id', 'movie_id', 'rating']], ratings_df_clean], ignore_index=True)\n",
    "\n",
    "print(f\"Original ratings: {len(low_activity_users)}\")\n",
    "print(f\"Synthetic ratings: {len(ratings_df_clean)}\")\n",
    "print(f\"Combined total: {len(combined_ratings)}\")\n",
    "\n",
    "combined_ratings.head()"
   ],
   "metadata": {
    "collapsed": false
   }
  },
  {
   "cell_type": "markdown",
   "source": [
    "# Train SVD on combined ratings"
   ],
   "metadata": {
    "collapsed": false
   }
  },
  {
   "cell_type": "code",
   "execution_count": 78,
   "outputs": [
    {
     "name": "stdout",
     "output_type": "stream",
     "text": [
      "RMSE: 1.0978\n",
      "MAE:  0.8970\n",
      "[Low-Activity Users + LLM] RMSE: 1.0978, MAE: 0.8970\n"
     ]
    }
   ],
   "source": [
    "reader = Reader(rating_scale=(1, 5))\n",
    "\n",
    "train_df_combined = combined_ratings[\n",
    "    ~combined_ratings.apply(lambda row: (row['user_id'], row['movie_id']) in test_pairs, axis=1)\n",
    "]\n",
    "\n",
    "data_combined = Dataset.load_from_df(train_df_combined[['user_id', 'movie_id', 'rating']], reader)\n",
    "trainset_combined = data_combined.build_full_trainset()\n",
    "\n",
    "algo_combined = SVD()\n",
    "algo_combined.fit(trainset_combined)\n",
    "\n",
    "# Evaluate on global testset\n",
    "predictions_combined = algo_combined.test(testset_global)\n",
    "\n",
    "rmse_combined = accuracy.rmse(predictions_combined)\n",
    "mae_combined = accuracy.mae(predictions_combined)\n",
    "\n",
    "print(f\"[Low-Activity Users + LLM] RMSE: {rmse_combined:.4f}, MAE: {mae_combined:.4f}\")"
   ],
   "metadata": {
    "collapsed": false
   }
  }
 ],
 "metadata": {
  "kernelspec": {
   "display_name": "Python 3",
   "language": "python",
   "name": "python3"
  },
  "language_info": {
   "codemirror_mode": {
    "name": "ipython",
    "version": 2
   },
   "file_extension": ".py",
   "mimetype": "text/x-python",
   "name": "python",
   "nbconvert_exporter": "python",
   "pygments_lexer": "ipython2",
   "version": "2.7.6"
  }
 },
 "nbformat": 4,
 "nbformat_minor": 0
}
