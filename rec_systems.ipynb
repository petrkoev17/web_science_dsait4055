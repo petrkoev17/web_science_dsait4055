{
 "cells": [
  {
   "cell_type": "code",
   "execution_count": 2,
   "metadata": {
    "collapsed": true
   },
   "outputs": [],
   "source": [
    "from transformers import AutoTokenizer, AutoModelForCausalLM\n",
    "import pandas as pd\n",
    "import torch\n",
    "from surprise import Dataset, Reader, SVD, KNNBasic, accuracy"
   ]
  },
  {
   "cell_type": "markdown",
   "source": [
    "# Setup"
   ],
   "metadata": {
    "collapsed": false
   }
  },
  {
   "cell_type": "code",
   "execution_count": 11,
   "outputs": [],
   "source": [
    "DATA_DIR = \"D:\\\\Delft\\\\ml-100k\\\\\"\n",
    "ratings = pd.read_csv(f\"{DATA_DIR}u.data\", sep=\"\\t\", names=[\"user_id\", \"movie_id\", \"rating\", \"timestamp\"])"
   ],
   "metadata": {
    "collapsed": false
   }
  },
  {
   "cell_type": "markdown",
   "source": [
    "# Get average ratings of user, could be interesting\n"
   ],
   "metadata": {
    "collapsed": false
   }
  },
  {
   "cell_type": "code",
   "execution_count": 8,
   "outputs": [
    {
     "name": "stdout",
     "output_type": "stream",
     "text": [
      "     user_id    rating\n",
      "0          1  3.610294\n",
      "1          2  3.709677\n",
      "2          3  2.796296\n",
      "3          4  4.333333\n",
      "4          5  2.874286\n",
      "..       ...       ...\n",
      "938      939  4.265306\n",
      "939      940  3.457944\n",
      "940      941  4.045455\n",
      "941      942  4.265823\n",
      "942      943  3.410714\n",
      "\n",
      "[943 rows x 2 columns]\n",
      "Average movies rated by a user: 106.04453870625663 \n"
     ]
    }
   ],
   "source": [
    "user_ratings = ratings.groupby('user_id')['rating'].mean().reset_index()\n",
    "print(user_ratings)\n",
    "\n",
    "users_rated = ratings['user_id'].value_counts().mean()\n",
    "print(f\"Average movies rated by a user: {users_rated} \")"
   ],
   "metadata": {
    "collapsed": false
   }
  },
  {
   "cell_type": "markdown",
   "source": [
    "# Get 62 users with 100-120 ratings"
   ],
   "metadata": {
    "collapsed": false
   }
  },
  {
   "cell_type": "code",
   "execution_count": 13,
   "outputs": [
    {
     "name": "stdout",
     "output_type": "stream",
     "text": [
      "Total ratings: 30600\n"
     ]
    }
   ],
   "source": [
    "users_ratings = ratings['user_id'].value_counts()\n",
    "filtered_users = users_ratings[(users_ratings >= 100) & (users_ratings <= 200)].index\n",
    "\n",
    "user_ratings = ratings[ratings['user_id'].isin(filtered_users)]\n",
    "print(f\"Total ratings: {len(user_ratings)}\")"
   ],
   "metadata": {
    "collapsed": false
   }
  },
  {
   "cell_type": "markdown",
   "source": [
    "# Get results with full set (for metrics lower is better)"
   ],
   "metadata": {
    "collapsed": false
   }
  },
  {
   "cell_type": "code",
   "execution_count": 14,
   "outputs": [
    {
     "name": "stdout",
     "output_type": "stream",
     "text": [
      "RMSE: 0.9616\n",
      "MAE:  0.7609\n"
     ]
    },
    {
     "data": {
      "text/plain": "0.7608916740556295"
     },
     "execution_count": 14,
     "metadata": {},
     "output_type": "execute_result"
    }
   ],
   "source": [
    "from surprise import Dataset, Reader\n",
    "from surprise.model_selection import train_test_split\n",
    "\n",
    "\n",
    "reader = Reader(rating_scale=(1, 5))\n",
    "full_trainset = Dataset.load_from_df(user_ratings[['user_id', 'movie_id', 'rating']], reader).build_full_trainset()\n",
    "trainset, testset = train_test_split(Dataset.load_from_df(user_ratings[['user_id', 'movie_id', 'rating']], reader), test_size=0.2)\n",
    "\n",
    "algo = SVD()\n",
    "algo.fit(trainset)\n",
    "predictions = algo.test(testset)\n",
    "\n",
    "accuracy.rmse(predictions)\n",
    "accuracy.mae(predictions)"
   ],
   "metadata": {
    "collapsed": false
   }
  },
  {
   "cell_type": "markdown",
   "source": [
    "# Remove fraction of ratings + plots"
   ],
   "metadata": {
    "collapsed": false
   }
  },
  {
   "cell_type": "code",
   "execution_count": 15,
   "outputs": [
    {
     "name": "stdout",
     "output_type": "stream",
     "text": [
      "Estimating biases using als...\n",
      "Kept 100% of ratings → RMSE: 0.9556, MAE: 0.7531\n",
      "Kept baseline 100% of ratings → RMSE: 0.9556, MAE: 0.7531\n",
      "Estimating biases using als...\n",
      "Kept 90% of ratings → RMSE: 0.9660, MAE: 0.7644\n",
      "Kept baseline 90% of ratings → RMSE: 0.9660, MAE: 0.7644\n",
      "Estimating biases using als...\n",
      "Kept 80% of ratings → RMSE: 0.9625, MAE: 0.7640\n",
      "Kept baseline 80% of ratings → RMSE: 0.9625, MAE: 0.7640\n",
      "Estimating biases using als...\n",
      "Kept 70% of ratings → RMSE: 0.9709, MAE: 0.7712\n",
      "Kept baseline 70% of ratings → RMSE: 0.9709, MAE: 0.7712\n",
      "Estimating biases using als...\n",
      "Kept 50% of ratings → RMSE: 1.0008, MAE: 0.7886\n",
      "Kept baseline 50% of ratings → RMSE: 1.0008, MAE: 0.7886\n",
      "Estimating biases using als...\n",
      "Kept 30% of ratings → RMSE: 1.0153, MAE: 0.8072\n",
      "Kept baseline 30% of ratings → RMSE: 1.0153, MAE: 0.8072\n",
      "Estimating biases using als...\n",
      "Kept 9% of ratings → RMSE: 1.0129, MAE: 0.8204\n",
      "Kept baseline 9% of ratings → RMSE: 1.0129, MAE: 0.8204\n"
     ]
    }
   ],
   "source": [
    "from surprise import BaselineOnly\n",
    "original_ratings = user_ratings.copy()\n",
    "\n",
    "reader = Reader(rating_scale=(1, 5))\n",
    "fractions = [0.0, 0.1, 0.2, 0.3, 0.5, 0.7, 0.9]\n",
    "results = []\n",
    "results_b = []\n",
    "for frac in fractions:\n",
    "    if frac > 0:\n",
    "        reduced_data_frame = original_ratings.sample(frac=(1-frac), random_state=42)\n",
    "    else:\n",
    "        reduced_data_frame = original_ratings.copy()\n",
    "\n",
    "    data = Dataset.load_from_df(reduced_data_frame[['user_id', 'movie_id', 'rating']], reader)\n",
    "\n",
    "    trainset, testset = train_test_split(data, test_size=0.2, random_state=42)\n",
    "\n",
    "    algo = SVD()\n",
    "    algo_b = BaselineOnly()\n",
    "\n",
    "\n",
    "    algo.fit(trainset)\n",
    "    algo_b.fit(trainset)\n",
    "\n",
    "    predictions = algo.test(testset)\n",
    "    predictions_b = algo.test(testset)\n",
    "\n",
    "    rmse = accuracy.rmse(predictions, verbose=False)\n",
    "    rmse_b = accuracy.rmse(predictions_b, verbose=False)\n",
    "\n",
    "    mae = accuracy.mae(predictions, verbose=False)\n",
    "    mae_b = accuracy.mae(predictions_b, verbose=False)\n",
    "\n",
    "    results.append((1 - frac, rmse, mae))\n",
    "    results_b.append((1 - frac, rmse_b, mae_b))\n",
    "\n",
    "    print(f\"Kept {int((1-frac)*100)}% of ratings → RMSE: {rmse:.4f}, MAE: {mae:.4f}\")\n",
    "    print(f\"Kept baseline {int((1-frac)*100)}% of ratings → RMSE: {rmse_b:.4f}, MAE: {mae_b:.4f}\")\n"
   ],
   "metadata": {
    "collapsed": false
   }
  },
  {
   "cell_type": "markdown",
   "source": [
    "# Plot results"
   ],
   "metadata": {
    "collapsed": false
   }
  },
  {
   "cell_type": "code",
   "execution_count": null,
   "outputs": [],
   "source": [
    "import matplotlib.pyplot as plt\n",
    "\n",
    "kept_fractions, rmses, maes = zip(*results)\n",
    "removed_fractions = [1 - k for k in kept_fractions]\n",
    "\n",
    "plt.figure(figsize=(10, 6))\n",
    "plt.plot(removed_fractions, rmses, label='RMSE', marker='o')\n",
    "plt.plot(removed_fractions, maes, label='MAE', marker='s')\n",
    "plt.xlabel('Fraction of Ratings Removed')\n",
    "plt.ylabel('Error')\n",
    "plt.title('Performance Degradation with Random Rating Removal')\n",
    "plt.legend()\n",
    "plt.grid(True)\n",
    "plt.show()"
   ],
   "metadata": {
    "collapsed": false,
    "pycharm": {
     "is_executing": true
    }
   }
  }
 ],
 "metadata": {
  "kernelspec": {
   "display_name": "Python 3",
   "language": "python",
   "name": "python3"
  },
  "language_info": {
   "codemirror_mode": {
    "name": "ipython",
    "version": 2
   },
   "file_extension": ".py",
   "mimetype": "text/x-python",
   "name": "python",
   "nbconvert_exporter": "python",
   "pygments_lexer": "ipython2",
   "version": "2.7.6"
  }
 },
 "nbformat": 4,
 "nbformat_minor": 0
}
